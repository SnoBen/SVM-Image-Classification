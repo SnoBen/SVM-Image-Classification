{
 "cells": [
  {
   "cell_type": "code",
   "execution_count": 1,
   "metadata": {},
   "outputs": [],
   "source": [
    "from pathlib import Path\n",
    "import os\n",
    "import pandas as pd\n",
    "import numpy as np\n",
    "import matplotlib.pyplot as plt\n",
    "import matplotlib as mpl\n",
    "%matplotlib inline\n",
    "from skimage.io import imread\n",
    "from skimage.transform import resize\n",
    "\n",
    "from skimage.feature import hog\n",
    "from skimage.color import rgb2gray\n",
    "from sklearn.preprocessing import StandardScaler\n",
    "from sklearn.decomposition import PCA"
   ]
  },
  {
   "cell_type": "markdown",
   "metadata": {},
   "source": [
    "# importing the data "
   ]
  },
  {
   "cell_type": "code",
   "execution_count": 20,
   "metadata": {},
   "outputs": [],
   "source": [
    "yes_t_labels = [ 1 for file in os.listdir(\"data/Train/yes\")]\n",
    "no_t_labels = [ 0 for file in os.listdir(\"data/Train/no\") ]\n",
    "yes_test_labels = [ 1 for file in os.listdir(\"data/Validation/yes\")]\n",
    "no_test_labels = [ 0 for file in os.listdir(\"data/Validation/no\")]\n",
    "y_train = yes_t_labels + no_t_labels\n",
    "y_test = yes_test_labels + no_test_labels"
   ]
  },
  {
   "cell_type": "code",
   "execution_count": 3,
   "metadata": {},
   "outputs": [],
   "source": [
    "def ImageLoader(file, root):\n",
    "    filename = \"{}\".format(file)\n",
    "    file_path = os.path.join(root, filename)\n",
    "    img = imread(file_path, as_gray=True)\n",
    "    img = resize(img, (100,100), anti_aliasing=True, mode='reflect')\n",
    "    return img    "
   ]
  },
  {
   "cell_type": "markdown",
   "metadata": {},
   "source": [
    "# Trying to import an image"
   ]
  },
  {
   "cell_type": "markdown",
   "metadata": {},
   "source": [
    "# Import the images into 2 sets Train and Test images"
   ]
  },
  {
   "cell_type": "code",
   "execution_count": 4,
   "metadata": {},
   "outputs": [],
   "source": [
    "train = [ImageLoader(file, \"data/Train/Yes\") for file in os.listdir(\"data/Train/Yes\") ] + [ImageLoader(file, \"data/Train/No\") for file in os.listdir(\"data/Train/No\")]"
   ]
  },
  {
   "cell_type": "code",
   "execution_count": 21,
   "metadata": {},
   "outputs": [],
   "source": [
    "test = [ImageLoader(file, \"data/Validation/Yes\") for file in os.listdir(\"data/Validation/Yes\") ] + [ImageLoader(file, \"data/Validation/No\") for file in os.listdir(\"data/Validation/No\")]"
   ]
  },
  {
   "cell_type": "markdown",
   "metadata": {},
   "source": [
    "# Preprocessing"
   ]
  },
  {
   "cell_type": "markdown",
   "metadata": {},
   "source": [
    "# Creating and scaling matrix features"
   ]
  },
  {
   "cell_type": "code",
   "execution_count": 10,
   "metadata": {},
   "outputs": [],
   "source": [
    "def create_features(img):\n",
    "    color_feature = img.flatten()\n",
    "    gray_image = rgb2gray(img)\n",
    "    hog_features = hog(gray_image, block_norm='L2-Hys', pixels_per_cell=(16, 16))\n",
    "    flat_features = np.hstack(color_feature)\n",
    "    return flat_features\n",
    "\n",
    "def create_feature_matrix(imgs):\n",
    "    feature_list = []\n",
    "    \n",
    "    for img in imgs:\n",
    "        image_features = create_features(img)\n",
    "        feature_list.append(image_features)\n",
    "        \n",
    "    feature_matrix = np.array(feature_list)\n",
    "    return feature_matrix\n",
    "        \n",
    "def scaling(matrix):\n",
    "    ss = StandardScaler()\n",
    "    stand = ss.fit_transform(matrix)\n",
    "\n",
    "    pca = PCA(n_components=500)\n",
    "    mat_pca = ss.fit_transform(stand)\n",
    "    return mat_pca"
   ]
  },
  {
   "cell_type": "code",
   "execution_count": 7,
   "metadata": {},
   "outputs": [
    {
     "name": "stderr",
     "output_type": "stream",
     "text": [
      "<ipython-input-6-0f95d231e532>:3: FutureWarning: The behavior of rgb2gray will change in scikit-image 0.19. Currently, rgb2gray allows 2D grayscale image to be passed as inputs and leaves them unmodified as outputs. Starting from version 0.19, 2D arrays will be treated as 1D images with 3 channels.\n",
      "  gray_image = rgb2gray(img)\n"
     ]
    }
   ],
   "source": [
    "X_train = create_feature_matrix(train)"
   ]
  },
  {
   "cell_type": "code",
   "execution_count": 22,
   "metadata": {},
   "outputs": [
    {
     "name": "stderr",
     "output_type": "stream",
     "text": [
      "<ipython-input-10-aca724f10b50>:3: FutureWarning: The behavior of rgb2gray will change in scikit-image 0.19. Currently, rgb2gray allows 2D grayscale image to be passed as inputs and leaves them unmodified as outputs. Starting from version 0.19, 2D arrays will be treated as 1D images with 3 channels.\n",
      "  gray_image = rgb2gray(img)\n"
     ]
    }
   ],
   "source": [
    "X_test = create_feature_matrix(test)"
   ]
  },
  {
   "cell_type": "markdown",
   "metadata": {},
   "source": [
    "# Scaling feature matrix"
   ]
  },
  {
   "cell_type": "code",
   "execution_count": 11,
   "metadata": {},
   "outputs": [],
   "source": [
    "X_train = scaling(X_train)"
   ]
  },
  {
   "cell_type": "code",
   "execution_count": 12,
   "metadata": {},
   "outputs": [],
   "source": [
    "X_test = scaling(X_test)"
   ]
  },
  {
   "cell_type": "markdown",
   "metadata": {},
   "source": [
    "# Train model"
   ]
  },
  {
   "cell_type": "code",
   "execution_count": 14,
   "metadata": {},
   "outputs": [],
   "source": [
    "from sklearn.svm import SVC"
   ]
  },
  {
   "cell_type": "code",
   "execution_count": 35,
   "metadata": {},
   "outputs": [
    {
     "data": {
      "text/plain": [
       "SVC(kernel='linear', probability=True, random_state=50)"
      ]
     },
     "execution_count": 35,
     "metadata": {},
     "output_type": "execute_result"
    }
   ],
   "source": [
    "svm = SVC(kernel='linear', probability=True, random_state=50)\n",
    "svm.fit(X_train,y_train)"
   ]
  },
  {
   "cell_type": "markdown",
   "metadata": {},
   "source": [
    "# Score model"
   ]
  },
  {
   "cell_type": "code",
   "execution_count": 17,
   "metadata": {},
   "outputs": [],
   "source": [
    "from sklearn.metrics import roc_curve, auc\n",
    "from sklearn.metrics import accuracy_score"
   ]
  },
  {
   "cell_type": "code",
   "execution_count": 36,
   "metadata": {},
   "outputs": [
    {
     "name": "stdout",
     "output_type": "stream",
     "text": [
      "Model accuracy is:  0.36425339366515835\n"
     ]
    }
   ],
   "source": [
    "# generate predictions\n",
    "y_pred = svm.predict(X_test)\n",
    "\n",
    "# calculate accuracy\n",
    "accuracy = accuracy_score(y_test, y_pred)\n",
    "print('Model accuracy is: ', accuracy)"
   ]
  },
  {
   "cell_type": "markdown",
   "metadata": {},
   "source": [
    "# ROC curve + AUC"
   ]
  },
  {
   "cell_type": "code",
   "execution_count": 25,
   "metadata": {},
   "outputs": [
    {
     "data": {
      "image/png": "[encoded data removed]",
      "text/plain": [
       "<Figure size 432x288 with 1 Axes>"
      ]
     },
     "metadata": {
      "needs_background": "light"
     },
     "output_type": "display_data"
    }
   ],
   "source": [
    "# predict probabilities for X_test using predict_proba\n",
    "probabilities = svm.predict_proba(X_test)\n",
    "\n",
    "# select the probabilities for label 1.0\n",
    "y_proba = probabilities[:, 1]\n",
    "\n",
    "# calculate false positive rate and true positive rate at different thresholds\n",
    "false_positive_rate, true_positive_rate, thresholds = roc_curve(y_test, y_proba, pos_label=1)\n",
    "\n",
    "# calculate AUC\n",
    "roc_auc = auc(false_positive_rate, true_positive_rate)\n",
    "\n",
    "plt.title('Receiver Operating Characteristic')\n",
    "# plot the false positive rate on the x axis and the true positive rate on the y axis\n",
    "roc_plot = plt.plot(false_positive_rate,\n",
    "                    true_positive_rate,\n",
    "                    label='AUC = {:0.2f}'.format(roc_auc))\n",
    "\n",
    "plt.legend(loc=0)\n",
    "plt.plot([0,1], [0,1], ls='--')\n",
    "plt.ylabel('True Positive Rate')\n",
    "plt.xlabel('False Positive Rate');"
   ]
  },
  {
   "cell_type": "markdown",
   "metadata": {},
   "source": [
    "#  KNN"
   ]
  },
  {
   "cell_type": "code",
   "execution_count": 37,
   "metadata": {},
   "outputs": [
    {
     "data": {
      "text/plain": [
       "KNeighborsClassifier(n_neighbors=100)"
      ]
     },
     "execution_count": 37,
     "metadata": {},
     "output_type": "execute_result"
    }
   ],
   "source": [
    "from sklearn.neighbors import KNeighborsClassifier\n",
    "\n",
    "knn = KNeighborsClassifier(n_neighbors=100)\n",
    "knn.fit(X_train, y_train)"
   ]
  },
  {
   "cell_type": "markdown",
   "metadata": {},
   "source": [
    "# Score model"
   ]
  },
  {
   "cell_type": "code",
   "execution_count": 33,
   "metadata": {},
   "outputs": [
    {
     "name": "stdout",
     "output_type": "stream",
     "text": [
      "Model accuracy is:  0.36425339366515835\n"
     ]
    }
   ],
   "source": [
    "y_pred = knn.predict(X_test)\n",
    "\n",
    "# calculate accuracy\n",
    "accuracy = accuracy_score(y_test, y_pred)\n",
    "print('Model accuracy is: ', accuracy)"
   ]
  }
 ],
 "metadata": {
  "kernelspec": {
   "display_name": "Python 3",
   "language": "python",
   "name": "python3"
  },
  "language_info": {
   "codemirror_mode": {
    "name": "ipython",
    "version": 3
   },
   "file_extension": ".py",
   "mimetype": "text/x-python",
   "name": "python",
   "nbconvert_exporter": "python",
   "pygments_lexer": "ipython3",
   "version": "3.8.3"
  }
 },
 "nbformat": 4,
 "nbformat_minor": 4
}
